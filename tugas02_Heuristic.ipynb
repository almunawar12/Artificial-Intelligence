{
  "nbformat": 4,
  "nbformat_minor": 0,
  "metadata": {
    "colab": {
      "provenance": [],
      "authorship_tag": "ABX9TyNOc/NMx9aNPDvjbPbvcrTU",
      "include_colab_link": true
    },
    "kernelspec": {
      "name": "python3",
      "display_name": "Python 3"
    },
    "language_info": {
      "name": "python"
    }
  },
  "cells": [
    {
      "cell_type": "markdown",
      "metadata": {
        "id": "view-in-github",
        "colab_type": "text"
      },
      "source": [
        "<a href=\"https://colab.research.google.com/github/almunawar12/Artificial-Intelligence/blob/main/tugas02_Heuristic.ipynb\" target=\"_parent\"><img src=\"https://colab.research.google.com/assets/colab-badge.svg\" alt=\"Open In Colab\"/></a>"
      ]
    },
    {
      "cell_type": "code",
      "execution_count": null,
      "metadata": {
        "id": "y1aPy42MISK7"
      },
      "outputs": [],
      "source": [
        "import queue\n",
        "import matplotlib.pyplot as plt\n",
        "\n",
        "def getHeuristics(): \n",
        "    heuristics = {} \n",
        "    f = open(\"heuristics.txt\") \n",
        "    for i in f.readlines(): \n",
        "        node_heuristic_val = i.split() \n",
        "        heuristics [node_heuristic_val[0]] = int(node_heuristic_val[1])\n",
        "\n",
        "    return heuristics"
      ]
    },
    {
      "cell_type": "code",
      "source": [
        "def getCity(): \n",
        "    city = {} \n",
        "    citiesCode = {} \n",
        "    f = open(\"cities.txt\")\n",
        "    j = 1\n",
        "    for i in f.readlines():\n",
        "        node_city_val = i.split()\n",
        "        city[node_city_val[0]] = [int (node_city_val[1]), int (node_city_val[2])]\n",
        "        \n",
        "        citiesCode[j] = node_city_val[0]\n",
        "        j += 1\n",
        "        \n",
        "    return city, citiesCode"
      ],
      "metadata": {
        "id": "wJtghSvvI06Q"
      },
      "execution_count": null,
      "outputs": []
    },
    {
      "cell_type": "code",
      "source": [
        "def createGraph(): \n",
        "    graph = {} \n",
        "    file = open(\"citiesGraph.txt\") \n",
        "    for i in file.readlines(): \n",
        "        node_val = i.split()\n",
        "    \n",
        "        if node_val[0] in graph and node_val[1] in graph: \n",
        "            c = graph.get(node_val[0])\n",
        "            c.append([node_val[1], node_val[2]]) \n",
        "            graph.update({node_val[0]: c})\n",
        "            \n",
        "            c = graph.get(node_val[1]) \n",
        "            c.append([node_val[0], node_val[2]]) \n",
        "            graph.update({node_val[1]: c})\n",
        "            \n",
        "        elif node_val[0] in graph: \n",
        "            c = graph.get(node_val[0])\n",
        "            c.append([node_val[1], node_val[2]]) \n",
        "            graph.update({node_val[0]: c})\n",
        "            \n",
        "            graph[node_val[1]] = [[node_val[0], node_val[2]]]\n",
        "\n",
        "        elif node_val[1] in graph: \n",
        "            c = graph.get(node_val[1])\n",
        "            c.append([node_val[0], node_val[2]]) \n",
        "            graph.update({node_val[1]: c})\n",
        "\n",
        "            graph[node_val[0]] = [[node_val[1], node_val[2]]]\n",
        "        \n",
        "        else:\n",
        "            graph[node_val[0]] = [[node_val[1], node_val[2]]] \n",
        "            graph[node_val[1]] = [[node_val[0], node_val[2]]]\n",
        "\n",
        "    return graph"
      ],
      "metadata": {
        "id": "LpeL6uQHI8w0"
      },
      "execution_count": null,
      "outputs": []
    },
    {
      "cell_type": "code",
      "source": [
        "# GBFS algorithm\n",
        "def GBFS(startNode, heuristics, graph, goalNode=\"G\"):\n",
        "    priorityQueue = queue.PriorityQueue()\n",
        "    path = []\n",
        "\n",
        "    priorityQueue.put((heuristics[startNode], startNode))\n",
        "\n",
        "    while priorityQueue.empty() == False:\n",
        "        current = priorityQueue.get()[1]\n",
        "        path.append(current)\n",
        "\n",
        "        if current == goalNode:\n",
        "            break\n",
        "\n",
        "        for i in graph[current]:\n",
        "            if i[0] not in path:\n",
        "                priorityQueue.put((heuristics[i[0]], i[0]))\n",
        "\n",
        "    return path"
      ],
      "metadata": {
        "id": "W2ZXsBF0I_4_"
      },
      "execution_count": null,
      "outputs": []
    },
    {
      "cell_type": "code",
      "source": [
        "# Astar algorithm\n",
        "def Astar(startNode, heuristics, graph, goalNode=\"G\"):\n",
        "    priorityQueue = queue.PriorityQueue()\n",
        "    distance = 0\n",
        "    path = []\n",
        "\n",
        "    priorityQueue.put((heuristics[startNode] + distance, [startNode, 0]))\n",
        "\n",
        "    while priorityQueue.empty() == False:\n",
        "        current = priorityQueue.get()[1]\n",
        "        path.append(current[0])\n",
        "        distance += int(current[1])\n",
        "\n",
        "        if current[0] == goalNode:\n",
        "            break\n",
        "\n",
        "        priorityQueue = queue.PriorityQueue()\n",
        "\n",
        "        for i in graph[current[0]]:\n",
        "            if i[0] not in path:\n",
        "                priorityQueue.put((heuristics[i[0]] + int(i[1]) + distance, i))\n",
        "\n",
        "    return path"
      ],
      "metadata": {
        "id": "xBT5-ZncJA5l"
      },
      "execution_count": null,
      "outputs": []
    },
    {
      "cell_type": "code",
      "source": [
        "def drawMap(city, gbfs, astar, graph): \n",
        "    for i, j in city.items(): \n",
        "        plt.plot(j[0], j[1], \"ro\") \n",
        "        plt.annotate(i, (j[0] + 5, j[1]))\n",
        "\n",
        "        for k in graph[i]:\n",
        "            n = city[k[0]] \n",
        "            plt.plot([j[0], n[0]], [j[1], n[1]], \"gray\")\n",
        "\n",
        "    for i in range(len(gbfs)):\n",
        "        try:\n",
        "            first = city[gbfs[i]]  \n",
        "            secend = city[gbfs[i + 1]] \n",
        "            \n",
        "            plt.plot([first[0], secend[0]], [first[1], secend[1]], \"green\")\n",
        "        except:\n",
        "            continue\n",
        "            \n",
        "    for i in range(len(astar)):\n",
        "        try:\n",
        "            first = city[astar[i]] \n",
        "            secend = city[astar[i + 1]]\n",
        "\n",
        "            plt.plot([first[0], secend[0]], [first[1], secend[1]], \"blue\")\n",
        "        except:\n",
        "            continue\n",
        "\n",
        "    plt.errorbar(1, 1, label=\"GBFS\", color=\"green\") \n",
        "    plt.errorbar(1, 1, label=\"ASTAR\", color=\"blue\") \n",
        "    plt.legend(loc=\"lower left\")\n",
        "\n",
        "    plt.show()\n"
      ],
      "metadata": {
        "id": "D7-cvI5kJDpd"
      },
      "execution_count": null,
      "outputs": []
    },
    {
      "cell_type": "code",
      "source": [
        "# running the program \n",
        "def main(): \n",
        "    heuristic = getHeuristics() \n",
        "    graph = createGraph() \n",
        "    city, citiesCode = getCity()\n",
        "\n",
        "    for i, j in citiesCode.items(): \n",
        "        print(i, j)\n",
        "\n",
        "    while True:\n",
        "        inputCode = int(input(\"Masukan nomor KOTA ASAL (0 untuk keluar): \"))\n",
        "            \n",
        "        if inputCode == 0: \n",
        "            break\n",
        "\n",
        "        cityName = citiesCode[inputCode]\n",
        "\n",
        "        gbfs = GBFS(cityName, heuristic, graph) \n",
        "        astar = Astar(cityName, heuristic, graph)  \n",
        "        print(\"GBFS => \", gbfs) \n",
        "        print(\"ASTAR => \", astar)\n",
        "            \n",
        "        drawMap(city, gbfs, astar, graph)\n",
        "        print(\"\\n\")\n",
        "\n",
        "main()"
      ],
      "metadata": {
        "colab": {
          "base_uri": "https://localhost:8080/",
          "height": 473
        },
        "id": "c-_vrCBTJIMX",
        "outputId": "33903737-9c46-4f7a-c42b-c43b879ff467"
      },
      "execution_count": null,
      "outputs": [
        {
          "output_type": "stream",
          "name": "stdout",
          "text": [
            "1 S\n",
            "2 A\n",
            "3 B\n",
            "4 C\n",
            "5 D\n",
            "6 G\n",
            "Masukan nomor KOTA ASAL (0 untuk keluar): 1\n",
            "GBFS =>  ['S', 'A', 'D', 'G']\n",
            "ASTAR =>  ['S', 'B', 'D', 'G']\n"
          ]
        },
        {
          "output_type": "display_data",
          "data": {
            "text/plain": [
              "<Figure size 432x288 with 1 Axes>"
            ],
            "image/png": "[encoded data removed]"
          },
          "metadata": {
            "needs_background": "light"
          }
        },
        {
          "name": "stdout",
          "output_type": "stream",
          "text": [
            "\n",
            "\n",
            "Masukan nomor KOTA ASAL (0 untuk keluar): 0\n"
          ]
        }
      ]
    }
  ]
}