{
  "cells": [
    {
      "cell_type": "markdown",
      "metadata": {
        "id": "view-in-github",
        "colab_type": "text"
      },
      "source": [
        "<a href=\"https://colab.research.google.com/github/almunawar12/Artificial-Intelligence/blob/main/Tugas_8_2006068.ipynb\" target=\"_parent\"><img src=\"https://colab.research.google.com/assets/colab-badge.svg\" alt=\"Open In Colab\"/></a>"
      ]
    },
    {
      "cell_type": "code",
      "execution_count": 52,
      "metadata": {
        "id": "Dhnz_yaEyY55"
      },
      "outputs": [],
      "source": [
        "import pandas as pd\n",
        "import numpy as np\n",
        "import matplotlib.pyplot as plt\n",
        "from sklearn import tree\n",
        "from sklearn.tree import DecisionTreeClassifier\n",
        "from sklearn.cluster import KMeans\n",
        "from sklearn.preprocessing import LabelEncoder\n",
        "from sklearn.model_selection import train_test_split\n",
        "from sklearn.metrics import accuracy_score, davies_bouldin_score"
      ]
    },
    {
      "cell_type": "code",
      "execution_count": 53,
      "metadata": {
        "colab": {
          "base_uri": "https://localhost:8080/",
          "height": 253
        },
        "id": "MU05V1gLy6Vv",
        "outputId": "c7d18057-7b7d-4545-8b38-eec4d7407715"
      },
      "outputs": [
        {
          "output_type": "stream",
          "name": "stdout",
          "text": [
            "sample data:\n"
          ]
        },
        {
          "output_type": "execute_result",
          "data": {
            "text/plain": [
              "                  nama      umur berat_badan  g1  g2  g3  g4  g5  g6  g7  ...  \\\n",
              "0      Adyasta Payyadh   5 Tahun     11,5 Kg   1   0   0   1   0   0   0  ...   \n",
              "1       Najwa Az Zahra  11 Tahun       43 Kg   1   0   0   0   0   0   0  ...   \n",
              "2      Muh Zakir Aisah   8 Tahun       18 Kg   1   1   0   1   0   0   1  ...   \n",
              "3       Dina Hadyana A   9 Tahun       23 Kg   1   0   1   1   0   0   1  ...   \n",
              "4  Melati Amalia Putri   9 Tahun       25 Kg   1   0   1   1   0   1   1  ...   \n",
              "\n",
              "   g11  g12  g13  g14  g15  g16  g17  g18  g19  label  \n",
              "0    1    0    1    0    0    0    0    0    0   asma  \n",
              "1    0    0    0    0    0    0    0    0    0     TB  \n",
              "2    0    0    0    1    0    0    0    0    0    CAP  \n",
              "3    0    0    0    0    0    0    0    0    0   asma  \n",
              "4    1    0    0    1    0    1    0    0    0    CAP  \n",
              "\n",
              "[5 rows x 23 columns]"
            ],
            "text/html": [
              "\n",
              "  <div id=\"df-d2a475e6-b0ea-4e4e-a221-22ff0040c30e\">\n",
              "    <div class=\"colab-df-container\">\n",
              "      <div>\n",
              "<style scoped>\n",
              "    .dataframe tbody tr th:only-of-type {\n",
              "        vertical-align: middle;\n",
              "    }\n",
              "\n",
              "    .dataframe tbody tr th {\n",
              "        vertical-align: top;\n",
              "    }\n",
              "\n",
              "    .dataframe thead th {\n",
              "        text-align: right;\n",
              "    }\n",
              "</style>\n",
              "<table border=\"1\" class=\"dataframe\">\n",
              "  <thead>\n",
              "    <tr style=\"text-align: right;\">\n",
              "      <th></th>\n",
              "      <th>nama</th>\n",
              "      <th>umur</th>\n",
              "      <th>berat_badan</th>\n",
              "      <th>g1</th>\n",
              "      <th>g2</th>\n",
              "      <th>g3</th>\n",
              "      <th>g4</th>\n",
              "      <th>g5</th>\n",
              "      <th>g6</th>\n",
              "      <th>g7</th>\n",
              "      <th>...</th>\n",
              "      <th>g11</th>\n",
              "      <th>g12</th>\n",
              "      <th>g13</th>\n",
              "      <th>g14</th>\n",
              "      <th>g15</th>\n",
              "      <th>g16</th>\n",
              "      <th>g17</th>\n",
              "      <th>g18</th>\n",
              "      <th>g19</th>\n",
              "      <th>label</th>\n",
              "    </tr>\n",
              "  </thead>\n",
              "  <tbody>\n",
              "    <tr>\n",
              "      <th>0</th>\n",
              "      <td>Adyasta Payyadh</td>\n",
              "      <td>5 Tahun</td>\n",
              "      <td>11,5 Kg</td>\n",
              "      <td>1</td>\n",
              "      <td>0</td>\n",
              "      <td>0</td>\n",
              "      <td>1</td>\n",
              "      <td>0</td>\n",
              "      <td>0</td>\n",
              "      <td>0</td>\n",
              "      <td>...</td>\n",
              "      <td>1</td>\n",
              "      <td>0</td>\n",
              "      <td>1</td>\n",
              "      <td>0</td>\n",
              "      <td>0</td>\n",
              "      <td>0</td>\n",
              "      <td>0</td>\n",
              "      <td>0</td>\n",
              "      <td>0</td>\n",
              "      <td>asma</td>\n",
              "    </tr>\n",
              "    <tr>\n",
              "      <th>1</th>\n",
              "      <td>Najwa Az Zahra</td>\n",
              "      <td>11 Tahun</td>\n",
              "      <td>43 Kg</td>\n",
              "      <td>1</td>\n",
              "      <td>0</td>\n",
              "      <td>0</td>\n",
              "      <td>0</td>\n",
              "      <td>0</td>\n",
              "      <td>0</td>\n",
              "      <td>0</td>\n",
              "      <td>...</td>\n",
              "      <td>0</td>\n",
              "      <td>0</td>\n",
              "      <td>0</td>\n",
              "      <td>0</td>\n",
              "      <td>0</td>\n",
              "      <td>0</td>\n",
              "      <td>0</td>\n",
              "      <td>0</td>\n",
              "      <td>0</td>\n",
              "      <td>TB</td>\n",
              "    </tr>\n",
              "    <tr>\n",
              "      <th>2</th>\n",
              "      <td>Muh Zakir Aisah</td>\n",
              "      <td>8 Tahun</td>\n",
              "      <td>18 Kg</td>\n",
              "      <td>1</td>\n",
              "      <td>1</td>\n",
              "      <td>0</td>\n",
              "      <td>1</td>\n",
              "      <td>0</td>\n",
              "      <td>0</td>\n",
              "      <td>1</td>\n",
              "      <td>...</td>\n",
              "      <td>0</td>\n",
              "      <td>0</td>\n",
              "      <td>0</td>\n",
              "      <td>1</td>\n",
              "      <td>0</td>\n",
              "      <td>0</td>\n",
              "      <td>0</td>\n",
              "      <td>0</td>\n",
              "      <td>0</td>\n",
              "      <td>CAP</td>\n",
              "    </tr>\n",
              "    <tr>\n",
              "      <th>3</th>\n",
              "      <td>Dina Hadyana A</td>\n",
              "      <td>9 Tahun</td>\n",
              "      <td>23 Kg</td>\n",
              "      <td>1</td>\n",
              "      <td>0</td>\n",
              "      <td>1</td>\n",
              "      <td>1</td>\n",
              "      <td>0</td>\n",
              "      <td>0</td>\n",
              "      <td>1</td>\n",
              "      <td>...</td>\n",
              "      <td>0</td>\n",
              "      <td>0</td>\n",
              "      <td>0</td>\n",
              "      <td>0</td>\n",
              "      <td>0</td>\n",
              "      <td>0</td>\n",
              "      <td>0</td>\n",
              "      <td>0</td>\n",
              "      <td>0</td>\n",
              "      <td>asma</td>\n",
              "    </tr>\n",
              "    <tr>\n",
              "      <th>4</th>\n",
              "      <td>Melati Amalia Putri</td>\n",
              "      <td>9 Tahun</td>\n",
              "      <td>25 Kg</td>\n",
              "      <td>1</td>\n",
              "      <td>0</td>\n",
              "      <td>1</td>\n",
              "      <td>1</td>\n",
              "      <td>0</td>\n",
              "      <td>1</td>\n",
              "      <td>1</td>\n",
              "      <td>...</td>\n",
              "      <td>1</td>\n",
              "      <td>0</td>\n",
              "      <td>0</td>\n",
              "      <td>1</td>\n",
              "      <td>0</td>\n",
              "      <td>1</td>\n",
              "      <td>0</td>\n",
              "      <td>0</td>\n",
              "      <td>0</td>\n",
              "      <td>CAP</td>\n",
              "    </tr>\n",
              "  </tbody>\n",
              "</table>\n",
              "<p>5 rows × 23 columns</p>\n",
              "</div>\n",
              "      <button class=\"colab-df-convert\" onclick=\"convertToInteractive('df-d2a475e6-b0ea-4e4e-a221-22ff0040c30e')\"\n",
              "              title=\"Convert this dataframe to an interactive table.\"\n",
              "              style=\"display:none;\">\n",
              "        \n",
              "  <svg xmlns=\"http://www.w3.org/2000/svg\" height=\"24px\"viewBox=\"0 0 24 24\"\n",
              "       width=\"24px\">\n",
              "    <path d=\"M0 0h24v24H0V0z\" fill=\"none\"/>\n",
              "    <path d=\"M18.56 5.44l.94 2.06.94-2.06 2.06-.94-2.06-.94-.94-2.06-.94 2.06-2.06.94zm-11 1L8.5 8.5l.94-2.06 2.06-.94-2.06-.94L8.5 2.5l-.94 2.06-2.06.94zm10 10l.94 2.06.94-2.06 2.06-.94-2.06-.94-.94-2.06-.94 2.06-2.06.94z\"/><path d=\"M17.41 7.96l-1.37-1.37c-.4-.4-.92-.59-1.43-.59-.52 0-1.04.2-1.43.59L10.3 9.45l-7.72 7.72c-.78.78-.78 2.05 0 2.83L4 21.41c.39.39.9.59 1.41.59.51 0 1.02-.2 1.41-.59l7.78-7.78 2.81-2.81c.8-.78.8-2.07 0-2.86zM5.41 20L4 18.59l7.72-7.72 1.47 1.35L5.41 20z\"/>\n",
              "  </svg>\n",
              "      </button>\n",
              "      \n",
              "  <style>\n",
              "    .colab-df-container {\n",
              "      display:flex;\n",
              "      flex-wrap:wrap;\n",
              "      gap: 12px;\n",
              "    }\n",
              "\n",
              "    .colab-df-convert {\n",
              "      background-color: #E8F0FE;\n",
              "      border: none;\n",
              "      border-radius: 50%;\n",
              "      cursor: pointer;\n",
              "      display: none;\n",
              "      fill: #1967D2;\n",
              "      height: 32px;\n",
              "      padding: 0 0 0 0;\n",
              "      width: 32px;\n",
              "    }\n",
              "\n",
              "    .colab-df-convert:hover {\n",
              "      background-color: #E2EBFA;\n",
              "      box-shadow: 0px 1px 2px rgba(60, 64, 67, 0.3), 0px 1px 3px 1px rgba(60, 64, 67, 0.15);\n",
              "      fill: #174EA6;\n",
              "    }\n",
              "\n",
              "    [theme=dark] .colab-df-convert {\n",
              "      background-color: #3B4455;\n",
              "      fill: #D2E3FC;\n",
              "    }\n",
              "\n",
              "    [theme=dark] .colab-df-convert:hover {\n",
              "      background-color: #434B5C;\n",
              "      box-shadow: 0px 1px 3px 1px rgba(0, 0, 0, 0.15);\n",
              "      filter: drop-shadow(0px 1px 2px rgba(0, 0, 0, 0.3));\n",
              "      fill: #FFFFFF;\n",
              "    }\n",
              "  </style>\n",
              "\n",
              "      <script>\n",
              "        const buttonEl =\n",
              "          document.querySelector('#df-d2a475e6-b0ea-4e4e-a221-22ff0040c30e button.colab-df-convert');\n",
              "        buttonEl.style.display =\n",
              "          google.colab.kernel.accessAllowed ? 'block' : 'none';\n",
              "\n",
              "        async function convertToInteractive(key) {\n",
              "          const element = document.querySelector('#df-d2a475e6-b0ea-4e4e-a221-22ff0040c30e');\n",
              "          const dataTable =\n",
              "            await google.colab.kernel.invokeFunction('convertToInteractive',\n",
              "                                                     [key], {});\n",
              "          if (!dataTable) return;\n",
              "\n",
              "          const docLinkHtml = 'Like what you see? Visit the ' +\n",
              "            '<a target=\"_blank\" href=https://colab.research.google.com/notebooks/data_table.ipynb>data table notebook</a>'\n",
              "            + ' to learn more about interactive tables.';\n",
              "          element.innerHTML = '';\n",
              "          dataTable['output_type'] = 'display_data';\n",
              "          await google.colab.output.renderOutput(dataTable, element);\n",
              "          const docLink = document.createElement('div');\n",
              "          docLink.innerHTML = docLinkHtml;\n",
              "          element.appendChild(docLink);\n",
              "        }\n",
              "      </script>\n",
              "    </div>\n",
              "  </div>\n",
              "  "
            ]
          },
          "metadata": {},
          "execution_count": 53
        }
      ],
      "source": [
        "data = pd.read_csv('data_paru_paru_anak.csv',sep=';')\n",
        "\n",
        "print('sample data:')\n",
        "data.head()\n"
      ]
    },
    {
      "cell_type": "code",
      "execution_count": 54,
      "metadata": {
        "colab": {
          "base_uri": "https://localhost:8080/"
        },
        "id": "mopVPOJ_zD1u",
        "outputId": "470b70e2-b545-4cd6-e9ae-6783ef8d6802"
      },
      "outputs": [
        {
          "output_type": "execute_result",
          "data": {
            "text/plain": [
              "nama           0\n",
              "umur           0\n",
              "berat_badan    0\n",
              "g1             0\n",
              "g2             0\n",
              "g3             0\n",
              "g4             0\n",
              "g5             0\n",
              "g6             0\n",
              "g7             0\n",
              "g8             0\n",
              "g9             0\n",
              "g10            0\n",
              "g11            0\n",
              "g12            0\n",
              "g13            0\n",
              "g14            0\n",
              "g15            0\n",
              "g16            0\n",
              "g17            0\n",
              "g18            0\n",
              "g19            0\n",
              "label          0\n",
              "dtype: int64"
            ]
          },
          "metadata": {},
          "execution_count": 54
        }
      ],
      "source": [
        "data.isna().sum()"
      ]
    },
    {
      "cell_type": "code",
      "execution_count": 55,
      "metadata": {
        "colab": {
          "base_uri": "https://localhost:8080/"
        },
        "id": "AO65d8-KzEgl",
        "outputId": "b971e111-109f-454f-f329-47b9ecdbc04f"
      },
      "outputs": [
        {
          "output_type": "execute_result",
          "data": {
            "text/plain": [
              "nama           object\n",
              "umur           object\n",
              "berat_badan    object\n",
              "g1              int64\n",
              "g2              int64\n",
              "g3              int64\n",
              "g4              int64\n",
              "g5              int64\n",
              "g6              int64\n",
              "g7              int64\n",
              "g8              int64\n",
              "g9              int64\n",
              "g10             int64\n",
              "g11             int64\n",
              "g12             int64\n",
              "g13             int64\n",
              "g14             int64\n",
              "g15             int64\n",
              "g16             int64\n",
              "g17             int64\n",
              "g18             int64\n",
              "g19             int64\n",
              "label          object\n",
              "dtype: object"
            ]
          },
          "metadata": {},
          "execution_count": 55
        }
      ],
      "source": [
        "data.dtypes"
      ]
    },
    {
      "cell_type": "code",
      "execution_count": 56,
      "metadata": {
        "colab": {
          "base_uri": "https://localhost:8080/"
        },
        "id": "vJZ0zCL_8mN3",
        "outputId": "d6b2e2c2-3087-478f-a390-7c7ebb34e4ba"
      },
      "outputs": [
        {
          "output_type": "stream",
          "name": "stdout",
          "text": [
            "                         nama  umur  berat_badan  g1  g2  g3  g4  g5  g6  g7  \\\n",
            "0             Adyasta Payyadh    10            3   1   0   0   1   0   0   0   \n",
            "1              Najwa Az Zahra     4           39   1   0   0   0   0   0   0   \n",
            "2             Muh Zakir Aisah    16           17   1   1   0   1   0   0   1   \n",
            "3              Dina Hadyana A    18           24   1   0   1   1   0   0   1   \n",
            "4         Melati Amalia Putri    18           27   1   0   1   1   0   1   1   \n",
            "..                        ...   ...          ...  ..  ..  ..  ..  ..  ..  ..   \n",
            "100            muhammad farid     0           48   0   1   1   1   0   1   1   \n",
            "101  Daffa Dzulhairi Alfarizi     9           41   1   1   0   1   0   0   0   \n",
            "102        Muh Sultan Syahrir     5            0   1   1   0   1   0   1   0   \n",
            "103                Nurfadiyah    12           15   0   1   0   1   0   1   1   \n",
            "104                Alghiffari     0           52   1   1   0   1   0   0   0   \n",
            "\n",
            "     ...  g11  g12  g13  g14  g15  g16  g17  g18  g19    label  \n",
            "0    ...    1    0    1    0    0    0    0    0    0     asma  \n",
            "1    ...    0    0    0    0    0    0    0    0    0       TB  \n",
            "2    ...    0    0    0    1    0    0    0    0    0      CAP  \n",
            "3    ...    0    0    0    0    0    0    0    0    0     asma  \n",
            "4    ...    1    0    0    1    0    1    0    0    0      CAP  \n",
            "..   ...  ...  ...  ...  ...  ...  ...  ...  ...  ...      ...  \n",
            "100  ...    1    0    0    1    0    1    0    0    0      CAP  \n",
            "101  ...    0    0    0    0    0    0    0    1    1  bronkhi  \n",
            "102  ...    1    0    0    1    0    0    0    0    0      CAP  \n",
            "103  ...    0    0    0    1    0    0    0    0    0      CAP  \n",
            "104  ...    0    0    0    0    0    1    0    0    0      CAP  \n",
            "\n",
            "[105 rows x 23 columns]\n",
            "Data 3 Tahun Muh Hafiz Hamzhi\n",
            "Data 3 Bulan Ahmad Maulana\n"
          ]
        }
      ],
      "source": [
        "label_encoder = LabelEncoder()\n",
        "\n",
        "data['umur'] = label_encoder.fit_transform(data['umur'])\n",
        "data['berat_badan'] = label_encoder.fit_transform(data['berat_badan'])\n",
        "\n",
        "print(data)\n",
        "print(f'Data 3 Tahun {data.iloc[6, 0]}')\n",
        "print(f'Data 3 Bulan {data.iloc[7, 0]}')"
      ]
    },
    {
      "cell_type": "code",
      "execution_count": 57,
      "metadata": {
        "id": "Sed7Yr3OzQ8P"
      },
      "outputs": [],
      "source": [
        "x = data.iloc[:, 1:20]\n",
        "y = data['label']\n",
        "\n",
        "xTrain, xTest, yTrain, yTest = train_test_split(x, y, test_size=0.3, random_state=0 )"
      ]
    },
    {
      "cell_type": "code",
      "execution_count": 58,
      "metadata": {
        "colab": {
          "base_uri": "https://localhost:8080/",
          "height": 74
        },
        "id": "DQCSriAAzxMz",
        "outputId": "bbc96a2e-557f-4872-9a97-34b48785f911"
      },
      "outputs": [
        {
          "output_type": "execute_result",
          "data": {
            "text/plain": [
              "DecisionTreeClassifier()"
            ],
            "text/html": [
              "<style>#sk-container-id-1 {color: black;background-color: white;}#sk-container-id-1 pre{padding: 0;}#sk-container-id-1 div.sk-toggleable {background-color: white;}#sk-container-id-1 label.sk-toggleable__label {cursor: pointer;display: block;width: 100%;margin-bottom: 0;padding: 0.3em;box-sizing: border-box;text-align: center;}#sk-container-id-1 label.sk-toggleable__label-arrow:before {content: \"▸\";float: left;margin-right: 0.25em;color: #696969;}#sk-container-id-1 label.sk-toggleable__label-arrow:hover:before {color: black;}#sk-container-id-1 div.sk-estimator:hover label.sk-toggleable__label-arrow:before {color: black;}#sk-container-id-1 div.sk-toggleable__content {max-height: 0;max-width: 0;overflow: hidden;text-align: left;background-color: #f0f8ff;}#sk-container-id-1 div.sk-toggleable__content pre {margin: 0.2em;color: black;border-radius: 0.25em;background-color: #f0f8ff;}#sk-container-id-1 input.sk-toggleable__control:checked~div.sk-toggleable__content {max-height: 200px;max-width: 100%;overflow: auto;}#sk-container-id-1 input.sk-toggleable__control:checked~label.sk-toggleable__label-arrow:before {content: \"▾\";}#sk-container-id-1 div.sk-estimator input.sk-toggleable__control:checked~label.sk-toggleable__label {background-color: #d4ebff;}#sk-container-id-1 div.sk-label input.sk-toggleable__control:checked~label.sk-toggleable__label {background-color: #d4ebff;}#sk-container-id-1 input.sk-hidden--visually {border: 0;clip: rect(1px 1px 1px 1px);clip: rect(1px, 1px, 1px, 1px);height: 1px;margin: -1px;overflow: hidden;padding: 0;position: absolute;width: 1px;}#sk-container-id-1 div.sk-estimator {font-family: monospace;background-color: #f0f8ff;border: 1px dotted black;border-radius: 0.25em;box-sizing: border-box;margin-bottom: 0.5em;}#sk-container-id-1 div.sk-estimator:hover {background-color: #d4ebff;}#sk-container-id-1 div.sk-parallel-item::after {content: \"\";width: 100%;border-bottom: 1px solid gray;flex-grow: 1;}#sk-container-id-1 div.sk-label:hover label.sk-toggleable__label {background-color: #d4ebff;}#sk-container-id-1 div.sk-serial::before {content: \"\";position: absolute;border-left: 1px solid gray;box-sizing: border-box;top: 0;bottom: 0;left: 50%;z-index: 0;}#sk-container-id-1 div.sk-serial {display: flex;flex-direction: column;align-items: center;background-color: white;padding-right: 0.2em;padding-left: 0.2em;position: relative;}#sk-container-id-1 div.sk-item {position: relative;z-index: 1;}#sk-container-id-1 div.sk-parallel {display: flex;align-items: stretch;justify-content: center;background-color: white;position: relative;}#sk-container-id-1 div.sk-item::before, #sk-container-id-1 div.sk-parallel-item::before {content: \"\";position: absolute;border-left: 1px solid gray;box-sizing: border-box;top: 0;bottom: 0;left: 50%;z-index: -1;}#sk-container-id-1 div.sk-parallel-item {display: flex;flex-direction: column;z-index: 1;position: relative;background-color: white;}#sk-container-id-1 div.sk-parallel-item:first-child::after {align-self: flex-end;width: 50%;}#sk-container-id-1 div.sk-parallel-item:last-child::after {align-self: flex-start;width: 50%;}#sk-container-id-1 div.sk-parallel-item:only-child::after {width: 0;}#sk-container-id-1 div.sk-dashed-wrapped {border: 1px dashed gray;margin: 0 0.4em 0.5em 0.4em;box-sizing: border-box;padding-bottom: 0.4em;background-color: white;}#sk-container-id-1 div.sk-label label {font-family: monospace;font-weight: bold;display: inline-block;line-height: 1.2em;}#sk-container-id-1 div.sk-label-container {text-align: center;}#sk-container-id-1 div.sk-container {/* jupyter's `normalize.less` sets `[hidden] { display: none; }` but bootstrap.min.css set `[hidden] { display: none !important; }` so we also need the `!important` here to be able to override the default hidden behavior on the sphinx rendered scikit-learn.org. See: https://github.com/scikit-learn/scikit-learn/issues/21755 */display: inline-block !important;position: relative;}#sk-container-id-1 div.sk-text-repr-fallback {display: none;}</style><div id=\"sk-container-id-1\" class=\"sk-top-container\"><div class=\"sk-text-repr-fallback\"><pre>DecisionTreeClassifier()</pre><b>In a Jupyter environment, please rerun this cell to show the HTML representation or trust the notebook. <br />On GitHub, the HTML representation is unable to render, please try loading this page with nbviewer.org.</b></div><div class=\"sk-container\" hidden><div class=\"sk-item\"><div class=\"sk-estimator sk-toggleable\"><input class=\"sk-toggleable__control sk-hidden--visually\" id=\"sk-estimator-id-1\" type=\"checkbox\" checked><label for=\"sk-estimator-id-1\" class=\"sk-toggleable__label sk-toggleable__label-arrow\">DecisionTreeClassifier</label><div class=\"sk-toggleable__content\"><pre>DecisionTreeClassifier()</pre></div></div></div></div></div>"
            ]
          },
          "metadata": {},
          "execution_count": 58
        }
      ],
      "source": [
        "dt = DecisionTreeClassifier()\n",
        "dt.fit(xTrain, yTrain)"
      ]
    },
    {
      "cell_type": "code",
      "execution_count": 59,
      "metadata": {
        "colab": {
          "base_uri": "https://localhost:8080/"
        },
        "id": "PAnFh8n0zz80",
        "outputId": "7b70de38-d697-4781-8922-9bfc53d282e8"
      },
      "outputs": [
        {
          "output_type": "stream",
          "name": "stdout",
          "text": [
            "Decision Tree Accuracy : 0.531\n"
          ]
        }
      ],
      "source": [
        "print('Decision Tree Accuracy : {:.3f}'.format(accuracy_score(yTest, dt.predict(xTest))))"
      ]
    },
    {
      "cell_type": "code",
      "execution_count": 60,
      "metadata": {
        "colab": {
          "base_uri": "https://localhost:8080/",
          "height": 1000
        },
        "id": "7PtEklLaz2mF",
        "outputId": "a633e83e-8346-4fd2-8eb5-50a1cef178e0"
      },
      "outputs": [
        {
          "output_type": "execute_result",
          "data": {
            "text/plain": [
              "[Text(0.55615234375, 0.9583333333333334, 'x[5] <= 0.5\\ngini = 0.703\\nsamples = 73\\nvalue = [24, 28, 12, 9]'),\n",
              " Text(0.408203125, 0.875, 'x[17] <= 0.5\\ngini = 0.142\\nsamples = 13\\nvalue = [1, 12, 0, 0]'),\n",
              " Text(0.376953125, 0.7916666666666666, 'gini = 0.0\\nsamples = 11\\nvalue = [0, 11, 0, 0]'),\n",
              " Text(0.439453125, 0.7916666666666666, 'x[15] <= 0.5\\ngini = 0.5\\nsamples = 2\\nvalue = [1, 1, 0, 0]'),\n",
              " Text(0.408203125, 0.7083333333333334, 'gini = 0.0\\nsamples = 1\\nvalue = [1, 0, 0, 0]'),\n",
              " Text(0.470703125, 0.7083333333333334, 'gini = 0.0\\nsamples = 1\\nvalue = [0, 1, 0, 0]'),\n",
              " Text(0.7041015625, 0.875, 'x[13] <= 0.5\\ngini = 0.719\\nsamples = 60\\nvalue = [23, 16, 12, 9]'),\n",
              " Text(0.564453125, 0.7916666666666666, 'x[18] <= 0.5\\ngini = 0.667\\nsamples = 43\\nvalue = [19, 13, 2, 9]'),\n",
              " Text(0.533203125, 0.7083333333333334, 'x[15] <= 0.5\\ngini = 0.632\\nsamples = 39\\nvalue = [19, 13, 2, 5]'),\n",
              " Text(0.37890625, 0.625, 'x[0] <= 11.5\\ngini = 0.656\\nsamples = 24\\nvalue = [8, 11, 2, 3]'),\n",
              " Text(0.2578125, 0.5416666666666666, 'x[17] <= 0.5\\ngini = 0.665\\nsamples = 19\\nvalue = [8, 7, 2, 2]'),\n",
              " Text(0.171875, 0.4583333333333333, 'x[8] <= 0.5\\ngini = 0.694\\nsamples = 14\\nvalue = [4, 6, 2, 2]'),\n",
              " Text(0.09375, 0.375, 'x[14] <= 0.5\\ngini = 0.571\\nsamples = 7\\nvalue = [0, 4, 2, 1]'),\n",
              " Text(0.0625, 0.2916666666666667, 'x[11] <= 0.5\\ngini = 0.5\\nsamples = 6\\nvalue = [0, 4, 1, 1]'),\n",
              " Text(0.03125, 0.20833333333333334, 'gini = 0.0\\nsamples = 3\\nvalue = [0, 3, 0, 0]'),\n",
              " Text(0.09375, 0.20833333333333334, 'x[0] <= 1.0\\ngini = 0.667\\nsamples = 3\\nvalue = [0, 1, 1, 1]'),\n",
              " Text(0.0625, 0.125, 'gini = 0.0\\nsamples = 1\\nvalue = [0, 1, 0, 0]'),\n",
              " Text(0.125, 0.125, 'x[10] <= 0.5\\ngini = 0.5\\nsamples = 2\\nvalue = [0, 0, 1, 1]'),\n",
              " Text(0.09375, 0.041666666666666664, 'gini = 0.0\\nsamples = 1\\nvalue = [0, 0, 0, 1]'),\n",
              " Text(0.15625, 0.041666666666666664, 'gini = 0.0\\nsamples = 1\\nvalue = [0, 0, 1, 0]'),\n",
              " Text(0.125, 0.2916666666666667, 'gini = 0.0\\nsamples = 1\\nvalue = [0, 0, 1, 0]'),\n",
              " Text(0.25, 0.375, 'x[9] <= 0.5\\ngini = 0.571\\nsamples = 7\\nvalue = [4, 2, 0, 1]'),\n",
              " Text(0.1875, 0.2916666666666667, 'x[1] <= 15.0\\ngini = 0.5\\nsamples = 2\\nvalue = [0, 1, 0, 1]'),\n",
              " Text(0.15625, 0.20833333333333334, 'gini = 0.0\\nsamples = 1\\nvalue = [0, 0, 0, 1]'),\n",
              " Text(0.21875, 0.20833333333333334, 'gini = 0.0\\nsamples = 1\\nvalue = [0, 1, 0, 0]'),\n",
              " Text(0.3125, 0.2916666666666667, 'x[0] <= 3.5\\ngini = 0.32\\nsamples = 5\\nvalue = [4, 1, 0, 0]'),\n",
              " Text(0.28125, 0.20833333333333334, 'x[1] <= 46.5\\ngini = 0.5\\nsamples = 2\\nvalue = [1, 1, 0, 0]'),\n",
              " Text(0.25, 0.125, 'gini = 0.0\\nsamples = 1\\nvalue = [0, 1, 0, 0]'),\n",
              " Text(0.3125, 0.125, 'gini = 0.0\\nsamples = 1\\nvalue = [1, 0, 0, 0]'),\n",
              " Text(0.34375, 0.20833333333333334, 'gini = 0.0\\nsamples = 3\\nvalue = [3, 0, 0, 0]'),\n",
              " Text(0.34375, 0.4583333333333333, 'x[6] <= 0.5\\ngini = 0.32\\nsamples = 5\\nvalue = [4, 1, 0, 0]'),\n",
              " Text(0.3125, 0.375, 'gini = 0.0\\nsamples = 4\\nvalue = [4, 0, 0, 0]'),\n",
              " Text(0.375, 0.375, 'gini = 0.0\\nsamples = 1\\nvalue = [0, 1, 0, 0]'),\n",
              " Text(0.5, 0.5416666666666666, 'x[3] <= 0.5\\ngini = 0.32\\nsamples = 5\\nvalue = [0, 4, 0, 1]'),\n",
              " Text(0.46875, 0.4583333333333333, 'x[1] <= 20.5\\ngini = 0.5\\nsamples = 2\\nvalue = [0, 1, 0, 1]'),\n",
              " Text(0.4375, 0.375, 'gini = 0.0\\nsamples = 1\\nvalue = [0, 1, 0, 0]'),\n",
              " Text(0.5, 0.375, 'gini = 0.0\\nsamples = 1\\nvalue = [0, 0, 0, 1]'),\n",
              " Text(0.53125, 0.4583333333333333, 'gini = 0.0\\nsamples = 3\\nvalue = [0, 3, 0, 0]'),\n",
              " Text(0.6875, 0.625, 'x[1] <= 51.0\\ngini = 0.427\\nsamples = 15\\nvalue = [11, 2, 0, 2]'),\n",
              " Text(0.65625, 0.5416666666666666, 'x[11] <= 0.5\\ngini = 0.357\\nsamples = 14\\nvalue = [11, 1, 0, 2]'),\n",
              " Text(0.625, 0.4583333333333333, 'x[0] <= 17.0\\ngini = 0.26\\nsamples = 13\\nvalue = [11, 0, 0, 2]'),\n",
              " Text(0.5625, 0.375, 'x[9] <= 0.5\\ngini = 0.165\\nsamples = 11\\nvalue = [10, 0, 0, 1]'),\n",
              " Text(0.53125, 0.2916666666666667, 'x[0] <= 2.0\\ngini = 0.5\\nsamples = 2\\nvalue = [1, 0, 0, 1]'),\n",
              " Text(0.5, 0.20833333333333334, 'gini = 0.0\\nsamples = 1\\nvalue = [1, 0, 0, 0]'),\n",
              " Text(0.5625, 0.20833333333333334, 'gini = 0.0\\nsamples = 1\\nvalue = [0, 0, 0, 1]'),\n",
              " Text(0.59375, 0.2916666666666667, 'gini = 0.0\\nsamples = 9\\nvalue = [9, 0, 0, 0]'),\n",
              " Text(0.6875, 0.375, 'x[8] <= 0.5\\ngini = 0.5\\nsamples = 2\\nvalue = [1, 0, 0, 1]'),\n",
              " Text(0.65625, 0.2916666666666667, 'gini = 0.0\\nsamples = 1\\nvalue = [0, 0, 0, 1]'),\n",
              " Text(0.71875, 0.2916666666666667, 'gini = 0.0\\nsamples = 1\\nvalue = [1, 0, 0, 0]'),\n",
              " Text(0.6875, 0.4583333333333333, 'gini = 0.0\\nsamples = 1\\nvalue = [0, 1, 0, 0]'),\n",
              " Text(0.71875, 0.5416666666666666, 'gini = 0.0\\nsamples = 1\\nvalue = [0, 1, 0, 0]'),\n",
              " Text(0.595703125, 0.7083333333333334, 'gini = 0.0\\nsamples = 4\\nvalue = [0, 0, 0, 4]'),\n",
              " Text(0.84375, 0.7916666666666666, 'x[1] <= 7.5\\ngini = 0.567\\nsamples = 17\\nvalue = [4, 3, 10, 0]'),\n",
              " Text(0.8125, 0.7083333333333334, 'gini = 0.0\\nsamples = 2\\nvalue = [0, 2, 0, 0]'),\n",
              " Text(0.875, 0.7083333333333334, 'x[1] <= 39.0\\ngini = 0.48\\nsamples = 15\\nvalue = [4, 1, 10, 0]'),\n",
              " Text(0.8125, 0.625, 'x[17] <= 0.5\\ngini = 0.314\\nsamples = 11\\nvalue = [1, 1, 9, 0]'),\n",
              " Text(0.78125, 0.5416666666666666, 'x[1] <= 12.0\\ngini = 0.18\\nsamples = 10\\nvalue = [1, 0, 9, 0]'),\n",
              " Text(0.75, 0.4583333333333333, 'gini = 0.0\\nsamples = 1\\nvalue = [1, 0, 0, 0]'),\n",
              " Text(0.8125, 0.4583333333333333, 'gini = 0.0\\nsamples = 9\\nvalue = [0, 0, 9, 0]'),\n",
              " Text(0.84375, 0.5416666666666666, 'gini = 0.0\\nsamples = 1\\nvalue = [0, 1, 0, 0]'),\n",
              " Text(0.9375, 0.625, 'x[1] <= 44.0\\ngini = 0.375\\nsamples = 4\\nvalue = [3, 0, 1, 0]'),\n",
              " Text(0.90625, 0.5416666666666666, 'gini = 0.0\\nsamples = 3\\nvalue = [3, 0, 0, 0]'),\n",
              " Text(0.96875, 0.5416666666666666, 'gini = 0.0\\nsamples = 1\\nvalue = [0, 0, 1, 0]')]"
            ]
          },
          "metadata": {},
          "execution_count": 60
        },
        {
          "output_type": "display_data",
          "data": {
            "text/plain": [
              "<Figure size 500x500 with 1 Axes>"
            ],
            "image/png": "[encoded data removed]"
          },
          "metadata": {}
        }
      ],
      "source": [
        "plt.figure(figsize=(5, 5))\n",
        "tree.plot_tree(dt, filled = True)"
      ]
    },
    {
      "cell_type": "code",
      "execution_count": 61,
      "metadata": {
        "colab": {
          "base_uri": "https://localhost:8080/"
        },
        "id": "m4wsh6t_z7Ho",
        "outputId": "5328bee5-4e83-4b57-dbc0-0730f029a183"
      },
      "outputs": [
        {
          "output_type": "stream",
          "name": "stderr",
          "text": [
            "/usr/local/lib/python3.10/dist-packages/sklearn/cluster/_kmeans.py:870: FutureWarning: The default value of `n_init` will change from 10 to 'auto' in 1.4. Set the value of `n_init` explicitly to suppress the warning\n",
            "  warnings.warn(\n"
          ]
        }
      ],
      "source": [
        "kMeans = KMeans(n_clusters=4)\n",
        "labels = kMeans.fit_predict(x)"
      ]
    },
    {
      "cell_type": "code",
      "execution_count": 62,
      "metadata": {
        "colab": {
          "base_uri": "https://localhost:8080/"
        },
        "id": "i8EyhfRmz7SR",
        "outputId": "638718a1-5c32-4292-a9c4-925e4768bef8"
      },
      "outputs": [
        {
          "output_type": "stream",
          "name": "stdout",
          "text": [
            "0.7601798245744622\n"
          ]
        }
      ],
      "source": [
        "db_score = davies_bouldin_score(x, labels)\n",
        "print(db_score)"
      ]
    },
    {
      "cell_type": "code",
      "execution_count": 63,
      "metadata": {
        "colab": {
          "base_uri": "https://localhost:8080/",
          "height": 447
        },
        "id": "WHNTSsxwz_tk",
        "outputId": "a468f70f-0193-4c8f-b6a0-3328b8db90c7"
      },
      "outputs": [
        {
          "output_type": "execute_result",
          "data": {
            "text/plain": [
              "<matplotlib.legend.Legend at 0x7fc705f02b30>"
            ]
          },
          "metadata": {},
          "execution_count": 63
        },
        {
          "output_type": "display_data",
          "data": {
            "text/plain": [
              "<Figure size 640x480 with 1 Axes>"
            ],
            "image/png": "[encoded data removed]"
          },
          "metadata": {}
        }
      ],
      "source": [
        "cols = data.columns\n",
        "plt.scatter(x.loc[labels == 0, cols[1]], \n",
        "            x.loc[labels == 0, cols[2]], \n",
        "            s= 100, c='purple', \n",
        "            label = 'bronkhi')\n",
        "plt.scatter(x.loc[labels == 1, cols[1]], \n",
        "            x.loc[labels == 1, cols[2]], \n",
        "            s= 100, c='orange', \n",
        "            label = 'Asma')\n",
        "plt.scatter(x.loc[labels == 2, cols[1]], \n",
        "            x.loc[labels == 2, cols[2]], \n",
        "            s= 100, c='green', \n",
        "            label = 'CAP')\n",
        "plt.scatter(x.loc[labels == 3, cols[1]], \n",
        "            x.loc[labels == 3, cols[2]], \n",
        "            s= 100, c='blue', \n",
        "            label = 'TB')\n",
        "\n",
        "plt.scatter(kMeans.cluster_centers_[:, 1], \n",
        "            kMeans.cluster_centers_[:, 2], \n",
        "            s=100, c='red', \n",
        "            label='Centroids')\n",
        "\n",
        "plt.legend()"
      ]
    }
  ],
  "metadata": {
    "colab": {
      "provenance": [],
      "include_colab_link": true
    },
    "kernelspec": {
      "display_name": "Python 3",
      "name": "python3"
    },
    "language_info": {
      "name": "python"
    }
  },
  "nbformat": 4,
  "nbformat_minor": 0
}