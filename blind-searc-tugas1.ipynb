{
  "nbformat": 4,
  "nbformat_minor": 0,
  "metadata": {
    "colab": {
      "provenance": [],
      "authorship_tag": "ABX9TyNWcqRu9Ohvz/kcbX+Eo254",
      "include_colab_link": true
    },
    "kernelspec": {
      "name": "python3",
      "display_name": "Python 3"
    },
    "language_info": {
      "name": "python"
    }
  },
  "cells": [
    {
      "cell_type": "markdown",
      "metadata": {
        "id": "view-in-github",
        "colab_type": "text"
      },
      "source": [
        "<a href=\"https://colab.research.google.com/github/almunawar12/Artificial-Intelligence/blob/main/blind-searc-tugas1.ipynb\" target=\"_parent\"><img src=\"https://colab.research.google.com/assets/colab-badge.svg\" alt=\"Open In Colab\"/></a>"
      ]
    },
    {
      "cell_type": "code",
      "execution_count": 2,
      "metadata": {
        "id": "DI2jPy30m-83"
      },
      "outputs": [],
      "source": [
        "def uniform_cost_search(goal, start):\n",
        "\n",
        "    global graph, cost\n",
        "    answer = [] \n",
        "\n",
        "    queue = []\n",
        "\n",
        "    for i in range(len(goal)):\n",
        "        answer.append(10**8)\n",
        "    queue.append([0,start])\n",
        "    visited = {}\n",
        "    count = 0\n",
        "\n",
        "    while (len(queue) > 0):\n",
        "        queue = sorted(queue)\n",
        "        p = queue[-1]\n",
        "        del queue[-1]\n",
        "        p[0] *= -1\n",
        "\n",
        "        if (p[1] in goal):\n",
        "            index = goal.index(p[1])\n",
        "            if(answer[index] == 10**8):\n",
        "                count += 1\n",
        "            if(answer[index] > p[0]):\n",
        "                answer[index] = p[0]\n",
        "            del queue[-1]\n",
        "            queue = sorted(queue)\n",
        "            if (count == len(goal)):\n",
        "                return answer\n",
        "        if (p[1] not in visited):\n",
        "            for i in range(len(graph[p[1]])):\n",
        "                queue.append([(p[0] + cost[(p[1], graph[p[1]][i])])* -1, graph[p[1]][i]]) \n",
        "            visited[p[1]]=1\n",
        "    return answer\n"
      ]
    },
    {
      "cell_type": "code",
      "source": [
        "if __name__=='__main__':\n",
        "    graph,cost = [[] for i in range(8)],{}\n",
        "\n",
        "    graph[0].append(1)\n",
        "    graph[0].append(3)\n",
        "    graph[0].append(4)\n",
        "    graph[4].append(3)\n",
        "    graph[3].append(1)\n",
        "    graph[1].append(2)\n",
        "    graph[3].append(2)\n",
        "\n",
        "    cost[(0, 1)] = 3\n",
        "    cost[(1, 2)] = 1\n",
        "    cost[(0, 3)] = 7\n",
        "    cost[(3, 2)] = 2\n",
        "    cost[(0, 4)] = 8\n",
        "    cost[(4, 3)] = 3\n",
        "    cost[(3, 2)] = 2\n",
        "\n",
        "    goal = []\n",
        "    goal.append(2)\n",
        "    answer = uniform_cost_search(goal, 0)\n",
        "    print(\"Minimum cost form 0 to 2 is =\",answer[0])"
      ],
      "metadata": {
        "colab": {
          "base_uri": "https://localhost:8080/"
        },
        "id": "YSxwgCfYnW2F",
        "outputId": "62ef9fcc-1c49-4c88-d18e-085a7a9c53c1"
      },
      "execution_count": 3,
      "outputs": [
        {
          "output_type": "stream",
          "name": "stdout",
          "text": [
            "Minimum cost form 0 to 2 is = 4\n"
          ]
        }
      ]
    }
  ]
}