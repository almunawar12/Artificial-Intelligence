{
  "nbformat": 4,
  "nbformat_minor": 0,
  "metadata": {
    "colab": {
      "provenance": [],
      "authorship_tag": "ABX9TyOCtZ9ZxPaHXRL03/7ZICYH",
      "include_colab_link": true
    },
    "kernelspec": {
      "name": "python3",
      "display_name": "Python 3"
    },
    "language_info": {
      "name": "python"
    }
  },
  "cells": [
    {
      "cell_type": "markdown",
      "metadata": {
        "id": "view-in-github",
        "colab_type": "text"
      },
      "source": [
        "<a href=\"https://colab.research.google.com/github/almunawar12/Artificial-Intelligence/blob/main/Tugas_6.ipynb\" target=\"_parent\"><img src=\"https://colab.research.google.com/assets/colab-badge.svg\" alt=\"Open In Colab\"/></a>"
      ]
    },
    {
      "cell_type": "code",
      "source": [
        "from google.colab import drive\n",
        "drive.mount('/content/drive')"
      ],
      "metadata": {
        "colab": {
          "base_uri": "https://localhost:8080/"
        },
        "id": "W_6Eq5srtqUq",
        "outputId": "728c7806-e99b-4b76-edc6-df05ed53f36d"
      },
      "execution_count": null,
      "outputs": [
        {
          "output_type": "stream",
          "name": "stdout",
          "text": [
            "Mounted at /content/drive\n"
          ]
        }
      ]
    },
    {
      "cell_type": "code",
      "source": [
        "import pandas as pd\n",
        "\n",
        "data = pd.read_csv('/content/drive/MyDrive/Colab Notebooks/datasets/Student Mental health.csv')\n",
        "\n",
        "print(data.head())"
      ],
      "metadata": {
        "colab": {
          "base_uri": "https://localhost:8080/"
        },
        "id": "XAT302let53I",
        "outputId": "ca1f416e-8e5f-425e-91ec-e45844b9254a"
      },
      "execution_count": null,
      "outputs": [
        {
          "output_type": "stream",
          "name": "stdout",
          "text": [
            "        Timestamp Choose your gender   Age What is your course?  \\\n",
            "0  8/7/2020 12:02             Female  18.0          Engineering   \n",
            "1  8/7/2020 12:04               Male  21.0    Islamic education   \n",
            "2  8/7/2020 12:05               Male  19.0                  BIT   \n",
            "3  8/7/2020 12:06             Female  22.0                 Laws   \n",
            "4  8/7/2020 12:13               Male  23.0         Mathemathics   \n",
            "\n",
            "  Your current year of Study What is your CGPA? Marital status  \\\n",
            "0                     year 1        3.00 - 3.49             No   \n",
            "1                     year 2        3.00 - 3.49             No   \n",
            "2                     Year 1        3.00 - 3.49             No   \n",
            "3                     year 3        3.00 - 3.49            Yes   \n",
            "4                     year 4        3.00 - 3.49             No   \n",
            "\n",
            "  Do you have Depression? Do you have Anxiety? Do you have Panic attack?  \\\n",
            "0                     Yes                   No                       Yes   \n",
            "1                      No                  Yes                        No   \n",
            "2                     Yes                  Yes                       Yes   \n",
            "3                     Yes                   No                        No   \n",
            "4                      No                   No                        No   \n",
            "\n",
            "  Did you seek any specialist for a treatment?  \n",
            "0                                           No  \n",
            "1                                           No  \n",
            "2                                           No  \n",
            "3                                           No  \n",
            "4                                           No  \n"
          ]
        }
      ]
    },
    {
      "cell_type": "code",
      "source": [
        "print(data['Age'].isna().sum())\n",
        "\n",
        "data['Age'].fillna('0')\n",
        "\n",
        "print(data['Age'].isna().sum())"
      ],
      "metadata": {
        "colab": {
          "base_uri": "https://localhost:8080/"
        },
        "id": "Rukz1pnFuXfm",
        "outputId": "89b2c4f2-9bc1-4be7-f95e-2c2b8914e4b9"
      },
      "execution_count": null,
      "outputs": [
        {
          "output_type": "stream",
          "name": "stdout",
          "text": [
            "1\n",
            "1\n"
          ]
        }
      ]
    }
  ]
}